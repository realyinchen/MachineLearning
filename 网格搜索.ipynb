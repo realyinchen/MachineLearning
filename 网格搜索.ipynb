{
 "cells": [
  {
   "cell_type": "code",
   "execution_count": 1,
   "id": "b1802ec2-7f1b-4c72-9b90-68241f3df981",
   "metadata": {},
   "outputs": [],
   "source": [
    "import pandas as pd\n",
    "from sklearn.preprocessing import LabelEncoder\n",
    "from sklearn.model_selection import train_test_split\n",
    "\n",
    "df = pd.read_csv(\"./data/breast_cancer_wisconsin_diagnostic/wdbc.data\", header=None)\n",
    "\n",
    "X = df.loc[:, 2:].values\n",
    "y = df.loc[:, 1].values\n",
    "le = LabelEncoder()\n",
    "y = le.fit_transform(y)\n",
    "\n",
    "\n",
    "X_train, X_test, y_train, y_test = train_test_split(X, y, test_size=0.20, stratify=y, random_state=1)"
   ]
  },
  {
   "cell_type": "code",
   "execution_count": 4,
   "id": "1b4fb0e3-b660-450d-acac-b20549a4d5f2",
   "metadata": {},
   "outputs": [
    {
     "name": "stdout",
     "output_type": "stream",
     "text": [
      "0.9846859903381642\n",
      "{'svc__C': 100.0, 'svc__gamma': 0.001, 'svc__kernel': 'rbf'}\n"
     ]
    }
   ],
   "source": [
    "from sklearn.preprocessing import StandardScaler\n",
    "from sklearn.model_selection import GridSearchCV \n",
    "from sklearn.svm import SVC\n",
    "from sklearn.pipeline import make_pipeline\n",
    "\n",
    "pipe_svc = make_pipeline(StandardScaler(), SVC(random_state=1))\n",
    "param_range = [0.0001, 0.001, 0.01, 0.1, 1.0, 10.0, 100.0, 1000.0]\n",
    "param_grid = [\n",
    "    {'svc__C': param_range, 'svc__kernel': ['linear']}, \n",
    "    {'svc__C': param_range, 'svc__gamma': param_range, 'svc__kernel': ['rbf']}] \n",
    "gs = GridSearchCV(estimator=pipe_svc, param_grid=param_grid, scoring='accuracy', cv=10, refit=True, n_jobs=-1) \n",
    "gs = gs.fit(X_train, y_train)\n",
    "print(gs.best_score_)\n",
    "print(gs.best_params_)"
   ]
  },
  {
   "cell_type": "code",
   "execution_count": 5,
   "id": "13997727-f0e8-4df3-938c-df5c8705712c",
   "metadata": {},
   "outputs": [
    {
     "name": "stdout",
     "output_type": "stream",
     "text": [
      "测试集准确率: 0.974\n"
     ]
    }
   ],
   "source": [
    "clf = gs.best_estimator_ \n",
    "clf.fit(X_train, y_train) \n",
    "print(f'测试集准确率: {clf.score(X_test, y_test):.3f}')"
   ]
  },
  {
   "cell_type": "code",
   "execution_count": 8,
   "id": "3913287c-ad54-44cb-914b-d25aaf8ea9f1",
   "metadata": {},
   "outputs": [
    {
     "name": "stdout",
     "output_type": "stream",
     "text": [
      "0.9780676328502416\n",
      "{'svc__C': 0.05971247755848463, 'svc__kernel': 'linear'}\n"
     ]
    }
   ],
   "source": [
    "import scipy\n",
    "from sklearn.model_selection import RandomizedSearchCV \n",
    "\n",
    "pipe_svc = make_pipeline(StandardScaler(), SVC(random_state=1)) \n",
    "param_range = scipy.stats.loguniform(0.0001, 1000.0)\n",
    "param_grid = [\n",
    "    {'svc__C': param_range, 'svc__kernel': ['linear']}, \n",
    "    {'svc__C': param_range, 'svc__gamma': param_range, 'svc__kernel': ['rbf']}] \n",
    "rs = RandomizedSearchCV(estimator=pipe_svc, param_distributions=param_grid, scoring='accuracy', \n",
    "                        refit=True, n_iter=20, cv=10, random_state=1, n_jobs=-1) \n",
    "\n",
    "rs = rs.fit(X_train, y_train)\n",
    "print(rs.best_score_) \n",
    "print(rs.best_params_)"
   ]
  },
  {
   "cell_type": "code",
   "execution_count": 12,
   "id": "122324d8-f8a6-4ef1-b272-35ddeb99f188",
   "metadata": {},
   "outputs": [
    {
     "name": "stdout",
     "output_type": "stream",
     "text": [
      "0.9617647058823529\n",
      "{'svc__C': 4.877780549954556, 'svc__gamma': 353.8127634797474, 'svc__kernel': 'linear'}\n"
     ]
    }
   ],
   "source": [
    "from sklearn.experimental import enable_halving_search_cv\n",
    "\n",
    "from sklearn.model_selection import HalvingRandomSearchCV \n",
    "\n",
    "param_grid={\n",
    "    'svc__C': param_range,\n",
    "    'svc__kernel': ['linear', 'rbf'],\n",
    "    'svc__gamma': param_range\n",
    "}\n",
    "\n",
    "hs = HalvingRandomSearchCV(pipe_svc, param_distributions=param_grid, \n",
    "                           n_candidates='exhaust', \n",
    "                           resource='n_samples', \n",
    "                           factor=1.5, \n",
    "                           random_state=1, n_jobs=-1)\n",
    "\n",
    "hs = hs.fit(X_train, y_train) \n",
    "print(hs.best_score_)\n",
    "print(hs.best_params_)"
   ]
  },
  {
   "cell_type": "code",
   "execution_count": null,
   "id": "bc97efac-fe41-41ae-b1ad-ee7e1c49f457",
   "metadata": {},
   "outputs": [],
   "source": []
  }
 ],
 "metadata": {
  "kernelspec": {
   "display_name": "dev",
   "language": "python",
   "name": "dev"
  },
  "language_info": {
   "codemirror_mode": {
    "name": "ipython",
    "version": 3
   },
   "file_extension": ".py",
   "mimetype": "text/x-python",
   "name": "python",
   "nbconvert_exporter": "python",
   "pygments_lexer": "ipython3",
   "version": "3.10.6"
  }
 },
 "nbformat": 4,
 "nbformat_minor": 5
}
