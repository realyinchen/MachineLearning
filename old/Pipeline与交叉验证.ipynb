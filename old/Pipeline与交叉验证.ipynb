{
 "cells": [
  {
   "cell_type": "code",
   "execution_count": 4,
   "id": "b1802ec2-7f1b-4c72-9b90-68241f3df981",
   "metadata": {},
   "outputs": [
    {
     "name": "stdout",
     "output_type": "stream",
     "text": [
      "['B' 'M']\n",
      "[1 0]\n"
     ]
    }
   ],
   "source": [
    "import pandas as pd\n",
    "from sklearn.preprocessing import LabelEncoder\n",
    "\n",
    "df = pd.read_csv(\"./data/breast_cancer_wisconsin_diagnostic/wdbc.data\", header=None)\n",
    "\n",
    "X = df.loc[:, 2:].values\n",
    "y = df.loc[:, 1].values\n",
    "le = LabelEncoder()\n",
    "y = le.fit_transform(y)\n",
    "print(le.classes_ )\n",
    "print(le.transform(['M', 'B']))"
   ]
  },
  {
   "cell_type": "code",
   "execution_count": 5,
   "id": "1b4fb0e3-b660-450d-acac-b20549a4d5f2",
   "metadata": {},
   "outputs": [],
   "source": [
    "from sklearn.model_selection import train_test_split\n",
    "\n",
    "X_train, X_test, y_train, y_test = train_test_split(\n",
    "    X, y, test_size=0.20, stratify=y, random_state=1)"
   ]
  },
  {
   "cell_type": "code",
   "execution_count": 6,
   "id": "13997727-f0e8-4df3-938c-df5c8705712c",
   "metadata": {},
   "outputs": [
    {
     "name": "stdout",
     "output_type": "stream",
     "text": [
      "测试集准确率: 0.956\n"
     ]
    }
   ],
   "source": [
    "from sklearn.preprocessing import StandardScaler \n",
    "from sklearn.decomposition import PCA \n",
    "from sklearn.linear_model import LogisticRegression\n",
    "from sklearn.pipeline import make_pipeline\n",
    "\n",
    "pipe_lr = make_pipeline(StandardScaler(), PCA(n_components=2), LogisticRegression())\n",
    "\n",
    "pipe_lr.fit(X_train, y_train)\n",
    "y_pred = pipe_lr.predict(X_test)\n",
    "test_acc = pipe_lr.score(X_test, y_test)\n",
    "print(f'测试集准确率: {test_acc:.3f}')"
   ]
  },
  {
   "cell_type": "code",
   "execution_count": 11,
   "id": "3913287c-ad54-44cb-914b-d25aaf8ea9f1",
   "metadata": {},
   "outputs": [
    {
     "name": "stdout",
     "output_type": "stream",
     "text": [
      "折(Fold): 01, 类别分布: [256 153], 准确率.: 0.935\n",
      "折(Fold): 02, 类别分布: [256 153], 准确率.: 0.935\n",
      "折(Fold): 03, 类别分布: [256 153], 准确率.: 0.957\n",
      "折(Fold): 04, 类别分布: [256 153], 准确率.: 0.957\n",
      "折(Fold): 05, 类别分布: [256 153], 准确率.: 0.935\n",
      "折(Fold): 06, 类别分布: [257 153], 准确率.: 0.956\n",
      "折(Fold): 07, 类别分布: [257 153], 准确率.: 0.978\n",
      "折(Fold): 08, 类别分布: [257 153], 准确率.: 0.933\n",
      "折(Fold): 09, 类别分布: [257 153], 准确率.: 0.956\n",
      "折(Fold): 10, 类别分布: [257 153], 准确率.: 0.956\n",
      "\n",
      "CV 准确率: 0.950 +/- 0.014\n"
     ]
    }
   ],
   "source": [
    "import numpy as np\n",
    "from sklearn.model_selection import StratifiedKFold\n",
    "\n",
    "kfold = StratifiedKFold(n_splits=10).split(X_train, y_train)\n",
    "scores = []\n",
    "\n",
    "for k, (train, test) in enumerate(kfold): \n",
    "    pipe_lr.fit(X_train[train], y_train[train]) \n",
    "    score = pipe_lr.score(X_train[test], y_train[test])\n",
    "    scores.append(score) \n",
    "    print(f'折(Fold): {k+1:02d}, 类别分布: {np.bincount(y_train[train])}, 准确率.: {score:.3f}')\n",
    "\n",
    "mean_acc = np.mean(scores)\n",
    "std_acc = np.std(scores)\n",
    "print(f'\\nCV 准确率: {mean_acc:.3f} +/- {std_acc:.3f}') "
   ]
  },
  {
   "cell_type": "code",
   "execution_count": 12,
   "id": "122324d8-f8a6-4ef1-b272-35ddeb99f188",
   "metadata": {},
   "outputs": [
    {
     "name": "stdout",
     "output_type": "stream",
     "text": [
      "每折的准确率: [0.93478261 0.93478261 0.95652174 0.95652174 0.93478261 0.95555556\n",
      " 0.97777778 0.93333333 0.95555556 0.95555556]\n",
      "\n",
      "CV 准确率: 0.950 +/- 0.014\n"
     ]
    }
   ],
   "source": [
    "from sklearn.model_selection import cross_val_score\n",
    "\n",
    "scores = cross_val_score(estimator=pipe_lr, X=X_train, y=y_train, cv=10, n_jobs=-1) \n",
    "print(f'每折的准确率: {scores}')\n",
    "\n",
    "print(f'\\nCV 准确率: {np.mean(scores):.3f} +/- {np.std(scores):.3f}')"
   ]
  },
  {
   "cell_type": "code",
   "execution_count": null,
   "id": "bc97efac-fe41-41ae-b1ad-ee7e1c49f457",
   "metadata": {},
   "outputs": [],
   "source": []
  }
 ],
 "metadata": {
  "kernelspec": {
   "display_name": "dev",
   "language": "python",
   "name": "dev"
  },
  "language_info": {
   "codemirror_mode": {
    "name": "ipython",
    "version": 3
   },
   "file_extension": ".py",
   "mimetype": "text/x-python",
   "name": "python",
   "nbconvert_exporter": "python",
   "pygments_lexer": "ipython3",
   "version": "3.10.6"
  }
 },
 "nbformat": 4,
 "nbformat_minor": 5
}
